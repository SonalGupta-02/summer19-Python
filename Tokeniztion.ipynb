{
  "nbformat": 4,
  "nbformat_minor": 0,
  "metadata": {
    "colab": {
      "name": "Untitled4.ipynb",
      "version": "0.3.2",
      "provenance": [],
      "include_colab_link": true
    },
    "kernelspec": {
      "name": "python3",
      "display_name": "Python 3"
    }
  },
  "cells": [
    {
      "cell_type": "markdown",
      "metadata": {
        "id": "view-in-github",
        "colab_type": "text"
      },
      "source": [
        "<a href=\"https://colab.research.google.com/github/SonalGupta-02/summer19-Python/blob/master/Tokeniztion.ipynb\" target=\"_parent\"><img src=\"https://colab.research.google.com/assets/colab-badge.svg\" alt=\"Open In Colab\"/></a>"
      ]
    },
    {
      "cell_type": "code",
      "metadata": {
        "id": "Z2vNW2BSBS53",
        "colab_type": "code",
        "colab": {
          "base_uri": "https://localhost:8080/",
          "height": 68
        },
        "outputId": "5c4e68d8-2f6b-47b0-e411-c09d125e8c8b"
      },
      "source": [
        "msg='''hello!! i am good and living happy.filhal to training is going on .\n",
        "And I am enjoying it.What abiut you Dude....???'''\n",
        "import nltk\n",
        "nltk.download('punkt')"
      ],
      "execution_count": 2,
      "outputs": [
        {
          "output_type": "stream",
          "text": [
            "[nltk_data] Downloading package punkt to /root/nltk_data...\n",
            "[nltk_data]   Unzipping tokenizers/punkt.zip.\n"
          ],
          "name": "stdout"
        },
        {
          "output_type": "execute_result",
          "data": {
            "text/plain": [
              "True"
            ]
          },
          "metadata": {
            "tags": []
          },
          "execution_count": 2
        }
      ]
    },
    {
      "cell_type": "code",
      "metadata": {
        "id": "QyOBl3K2CAgZ",
        "colab_type": "code",
        "colab": {}
      },
      "source": [
        "#import tokenizer\n",
        "from nltk.tokenize import sent_tokenize\n",
        "from nltk.tokenize import word_tokenize"
      ],
      "execution_count": 0,
      "outputs": []
    },
    {
      "cell_type": "code",
      "metadata": {
        "id": "rY9s2CmJCaSt",
        "colab_type": "code",
        "colab": {}
      },
      "source": [
        "#sentence tokenizer\n",
        "sent=sent_tokenize(msg)"
      ],
      "execution_count": 0,
      "outputs": []
    },
    {
      "cell_type": "code",
      "metadata": {
        "id": "KWBkYJFMCoJL",
        "colab_type": "code",
        "colab": {
          "base_uri": "https://localhost:8080/",
          "height": 85
        },
        "outputId": "4a0be52d-f884-48c0-8bdf-e141596cb4dd"
      },
      "source": [
        "sent"
      ],
      "execution_count": 7,
      "outputs": [
        {
          "output_type": "execute_result",
          "data": {
            "text/plain": [
              "['hello!!',\n",
              " 'i am good and living happy.filhal to training is going on .',\n",
              " 'And I am enjoying it.What abiut you Dude....??',\n",
              " '?']"
            ]
          },
          "metadata": {
            "tags": []
          },
          "execution_count": 7
        }
      ]
    },
    {
      "cell_type": "code",
      "metadata": {
        "id": "JdcHA1z-Cq03",
        "colab_type": "code",
        "colab": {
          "base_uri": "https://localhost:8080/",
          "height": 34
        },
        "outputId": "ac1f8c11-c8b0-4af5-c985-57215b0feff8"
      },
      "source": [
        "len(sent)"
      ],
      "execution_count": 8,
      "outputs": [
        {
          "output_type": "execute_result",
          "data": {
            "text/plain": [
              "4"
            ]
          },
          "metadata": {
            "tags": []
          },
          "execution_count": 8
        }
      ]
    },
    {
      "cell_type": "code",
      "metadata": {
        "id": "kDC8A21DCvBL",
        "colab_type": "code",
        "colab": {
          "base_uri": "https://localhost:8080/",
          "height": 493
        },
        "outputId": "e5106396-c31c-437a-8910-946a98321b22"
      },
      "source": [
        "#word tokenizer\n",
        "word=word_tokenize(msg)\n",
        "word"
      ],
      "execution_count": 9,
      "outputs": [
        {
          "output_type": "execute_result",
          "data": {
            "text/plain": [
              "['hello',\n",
              " '!',\n",
              " '!',\n",
              " 'i',\n",
              " 'am',\n",
              " 'good',\n",
              " 'and',\n",
              " 'living',\n",
              " 'happy.filhal',\n",
              " 'to',\n",
              " 'training',\n",
              " 'is',\n",
              " 'going',\n",
              " 'on',\n",
              " '.',\n",
              " 'And',\n",
              " 'I',\n",
              " 'am',\n",
              " 'enjoying',\n",
              " 'it.What',\n",
              " 'abiut',\n",
              " 'you',\n",
              " 'Dude',\n",
              " '...',\n",
              " '.',\n",
              " '?',\n",
              " '?',\n",
              " '?']"
            ]
          },
          "metadata": {
            "tags": []
          },
          "execution_count": 9
        }
      ]
    },
    {
      "cell_type": "code",
      "metadata": {
        "id": "pkg-5JpPC4sz",
        "colab_type": "code",
        "colab": {
          "base_uri": "https://localhost:8080/",
          "height": 34
        },
        "outputId": "1c73dca3-d541-489a-c1a4-730a559dd959"
      },
      "source": [
        "len(word)"
      ],
      "execution_count": 10,
      "outputs": [
        {
          "output_type": "execute_result",
          "data": {
            "text/plain": [
              "28"
            ]
          },
          "metadata": {
            "tags": []
          },
          "execution_count": 10
        }
      ]
    },
    {
      "cell_type": "code",
      "metadata": {
        "id": "q9vAM52KC586",
        "colab_type": "code",
        "colab": {}
      },
      "source": [
        "#stopwords rempve\n",
        "from nltk.corpus import stopwords"
      ],
      "execution_count": 0,
      "outputs": []
    },
    {
      "cell_type": "code",
      "metadata": {
        "id": "kZ2p5SvVDGpC",
        "colab_type": "code",
        "colab": {}
      },
      "source": [
        "#remove stopwords from actual word\n",
        "new_word=[i for i in word if i.lower() not in stopwords.words('english')]\n"
      ],
      "execution_count": 0,
      "outputs": []
    },
    {
      "cell_type": "code",
      "metadata": {
        "id": "AYU3-0sADKG3",
        "colab_type": "code",
        "colab": {
          "base_uri": "https://localhost:8080/",
          "height": 34
        },
        "outputId": "95a18373-4ef1-4d6f-dfec-b5f4855881d8"
      },
      "source": [
        "len(new_word)"
      ],
      "execution_count": 13,
      "outputs": [
        {
          "output_type": "execute_result",
          "data": {
            "text/plain": [
              "18"
            ]
          },
          "metadata": {
            "tags": []
          },
          "execution_count": 13
        }
      ]
    },
    {
      "cell_type": "code",
      "metadata": {
        "id": "V1oP9_cDDNBS",
        "colab_type": "code",
        "colab": {}
      },
      "source": [
        "# frequency\n",
        "import nltk\n",
        "import matplotlib.pyplot as plt\n"
      ],
      "execution_count": 0,
      "outputs": []
    },
    {
      "cell_type": "code",
      "metadata": {
        "id": "du3sY42CDQjT",
        "colab_type": "code",
        "colab": {
          "base_uri": "https://localhost:8080/",
          "height": 332
        },
        "outputId": "c351c01e-e6a1-4d52-b900-7ae650e50bf6"
      },
      "source": [
        "nlp=nltk.FreqDist(word)\n",
        "nlp.plot() #plot in actual words\n"
      ],
      "execution_count": 15,
      "outputs": [
        {
          "output_type": "display_data",
          "data": {
            "image/png": "[encoded data removed]",
            "text/plain": [
              "<Figure size 432x288 with 1 Axes>"
            ]
          },
          "metadata": {
            "tags": []
          }
        }
      ]
    },
    {
      "cell_type": "code",
      "metadata": {
        "id": "Fv89zkKtDTRb",
        "colab_type": "code",
        "colab": {}
      },
      "source": [
        ""
      ],
      "execution_count": 0,
      "outputs": []
    }
  ]
}