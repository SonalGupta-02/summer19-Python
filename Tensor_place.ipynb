{
  "nbformat": 4,
  "nbformat_minor": 0,
  "metadata": {
    "colab": {
      "name": "Untitled9.ipynb",
      "version": "0.3.2",
      "provenance": [],
      "include_colab_link": true
    },
    "kernelspec": {
      "name": "python3",
      "display_name": "Python 3"
    }
  },
  "cells": [
    {
      "cell_type": "markdown",
      "metadata": {
        "id": "view-in-github",
        "colab_type": "text"
      },
      "source": [
        "<a href=\"https://colab.research.google.com/github/SonalGupta-02/summer19-Python/blob/master/Tensor_place.ipynb\" target=\"_parent\"><img src=\"https://colab.research.google.com/assets/colab-badge.svg\" alt=\"Open In Colab\"/></a>"
      ]
    },
    {
      "cell_type": "markdown",
      "metadata": {
        "id": "PC8phObGlrRK",
        "colab_type": "text"
      },
      "source": [
        "TensorFlow"
      ]
    },
    {
      "cell_type": "code",
      "metadata": {
        "id": "5Z_MmGpehJIv",
        "colab_type": "code",
        "colab": {}
      },
      "source": [
        "import tensorflow as tf"
      ],
      "execution_count": 0,
      "outputs": []
    },
    {
      "cell_type": "code",
      "metadata": {
        "id": "JMBz4m_sl0M_",
        "colab_type": "code",
        "colab": {}
      },
      "source": [
        "# to assign fix value in tensorflow we need to define constant\n",
        "x=tf.constant(30)  # single value constant"
      ],
      "execution_count": 0,
      "outputs": []
    },
    {
      "cell_type": "code",
      "metadata": {
        "id": "D4qLP0a-mwRz",
        "colab_type": "code",
        "colab": {}
      },
      "source": [
        "xl=tf.constant([3,5,66,88])    # multi vaue constant"
      ],
      "execution_count": 0,
      "outputs": []
    },
    {
      "cell_type": "code",
      "metadata": {
        "id": "dBZzKQczm_N0",
        "colab_type": "code",
        "colab": {
          "base_uri": "https://localhost:8080/",
          "height": 34
        },
        "outputId": "15410843-d505-4789-c7d0-225acc6f0f57"
      },
      "source": [
        "# type of x\n",
        "type(x)\n",
        "    "
      ],
      "execution_count": 4,
      "outputs": [
        {
          "output_type": "execute_result",
          "data": {
            "text/plain": [
              "tensorflow.python.framework.ops.Tensor"
            ]
          },
          "metadata": {
            "tags": []
          },
          "execution_count": 4
        }
      ]
    },
    {
      "cell_type": "code",
      "metadata": {
        "id": "RO5-G-fonIaB",
        "colab_type": "code",
        "colab": {}
      },
      "source": [
        "# y\n",
        "y=tf.constant(20)"
      ],
      "execution_count": 0,
      "outputs": []
    },
    {
      "cell_type": "code",
      "metadata": {
        "id": "VhZLVH6CoK9N",
        "colab_type": "code",
        "colab": {}
      },
      "source": [
        "# equation\n",
        "z=x+y  # new tensor ---- z equation compile and store and wait for resources\n",
        "# CPU ,GPU,TPU ----"
      ],
      "execution_count": 0,
      "outputs": []
    },
    {
      "cell_type": "code",
      "metadata": {
        "id": "kTEkrX4aoeGx",
        "colab_type": "code",
        "colab": {}
      },
      "source": [
        "# We hae another methd to add the same\n",
        "z1=tf.add(x,y)"
      ],
      "execution_count": 0,
      "outputs": []
    },
    {
      "cell_type": "code",
      "metadata": {
        "id": "RbPA8Jw1oqB_",
        "colab_type": "code",
        "colab": {}
      },
      "source": [
        "# now time for assigning resources to our equation\n",
        "sess=tf.Session()   # connect CPU GPU TPU\n"
      ],
      "execution_count": 0,
      "outputs": []
    },
    {
      "cell_type": "code",
      "metadata": {
        "id": "wLKX3n-Gotfo",
        "colab_type": "code",
        "colab": {}
      },
      "source": [
        "# now we can run our equation\n",
        "output=sess.run(z)"
      ],
      "execution_count": 0,
      "outputs": []
    },
    {
      "cell_type": "code",
      "metadata": {
        "id": "YH15VECI0TK1",
        "colab_type": "code",
        "colab": {
          "base_uri": "https://localhost:8080/",
          "height": 34
        },
        "outputId": "f83682ca-f5a4-4266-ce7c-6bb1f478c23f"
      },
      "source": [
        "output"
      ],
      "execution_count": 14,
      "outputs": [
        {
          "output_type": "execute_result",
          "data": {
            "text/plain": [
              "50"
            ]
          },
          "metadata": {
            "tags": []
          },
          "execution_count": 14
        }
      ]
    },
    {
      "cell_type": "code",
      "metadata": {
        "id": "SG4KbCpq0Wrn",
        "colab_type": "code",
        "colab": {}
      },
      "source": [
        "# clossing session\n",
        "sess.close()"
      ],
      "execution_count": 0,
      "outputs": []
    },
    {
      "cell_type": "code",
      "metadata": {
        "id": "Rnh7GAbU0ip-",
        "colab_type": "code",
        "colab": {}
      },
      "source": [
        "#we can perform same task in another way\n",
        "with tf.Session() as sess:\n",
        "  output1=sess.run(z)\n",
        "  tf.summary.FileWriter(sess.graph)"
      ],
      "execution_count": 0,
      "outputs": []
    },
    {
      "cell_type": "code",
      "metadata": {
        "id": "6M3WZwU10w-W",
        "colab_type": "code",
        "colab": {
          "base_uri": "https://localhost:8080/",
          "height": 34
        },
        "outputId": "271ce2d8-d392-4365-a6e0-9daf2abcab20"
      },
      "source": [
        "output1"
      ],
      "execution_count": 17,
      "outputs": [
        {
          "output_type": "execute_result",
          "data": {
            "text/plain": [
              "50"
            ]
          },
          "metadata": {
            "tags": []
          },
          "execution_count": 17
        }
      ]
    },
    {
      "cell_type": "markdown",
      "metadata": {
        "id": "ino2Pk8S3XJ0",
        "colab_type": "text"
      },
      "source": [
        "**Placeholder**"
      ]
    },
    {
      "cell_type": "code",
      "metadata": {
        "id": "EWCZwTzb0zU2",
        "colab_type": "code",
        "colab": {}
      },
      "source": [
        "# first palce holder\n",
        "p1=tf.placeholder(tf.int32)"
      ],
      "execution_count": 0,
      "outputs": []
    },
    {
      "cell_type": "code",
      "metadata": {
        "id": "aaE8xcrb3lZL",
        "colab_type": "code",
        "colab": {}
      },
      "source": [
        "# placeholder 2\n",
        "p2=tf.placeholder(tf.int32)"
      ],
      "execution_count": 0,
      "outputs": []
    },
    {
      "cell_type": "code",
      "metadata": {
        "id": "8KvfboYo3yYP",
        "colab_type": "code",
        "colab": {}
      },
      "source": [
        "# adding values\n",
        "sum=tf.add(p1,p2)"
      ],
      "execution_count": 0,
      "outputs": []
    },
    {
      "cell_type": "code",
      "metadata": {
        "id": "yIybhWW338ZE",
        "colab_type": "code",
        "colab": {}
      },
      "source": [
        "# general\n",
        "sum1=p1+p2"
      ],
      "execution_count": 0,
      "outputs": []
    },
    {
      "cell_type": "code",
      "metadata": {
        "id": "_lxdTfkv4LQe",
        "colab_type": "code",
        "colab": {}
      },
      "source": [
        "# time for creating session\n",
        "with tf.Session() as sess:\n",
        "  output2=sess.run(sum1,{p1:[3,6],p2:[5,8]})"
      ],
      "execution_count": 0,
      "outputs": []
    },
    {
      "cell_type": "code",
      "metadata": {
        "id": "KAZtUqfq4g7l",
        "colab_type": "code",
        "colab": {
          "base_uri": "https://localhost:8080/",
          "height": 34
        },
        "outputId": "664d4491-4125-4c52-be22-bcf1a5a44956"
      },
      "source": [
        "output2"
      ],
      "execution_count": 32,
      "outputs": [
        {
          "output_type": "execute_result",
          "data": {
            "text/plain": [
              "array([ 8, 14], dtype=int32)"
            ]
          },
          "metadata": {
            "tags": []
          },
          "execution_count": 32
        }
      ]
    },
    {
      "cell_type": "code",
      "metadata": {
        "id": "OAwtoyk44hrl",
        "colab_type": "code",
        "colab": {}
      },
      "source": [
        ""
      ],
      "execution_count": 0,
      "outputs": []
    }
  ]
}