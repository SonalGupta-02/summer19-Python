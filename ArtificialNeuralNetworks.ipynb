{
  "nbformat": 4,
  "nbformat_minor": 0,
  "metadata": {
    "colab": {
      "name": "Untitled11.ipynb",
      "version": "0.3.2",
      "provenance": [],
      "include_colab_link": true
    },
    "kernelspec": {
      "name": "python3",
      "display_name": "Python 3"
    }
  },
  "cells": [
    {
      "cell_type": "markdown",
      "metadata": {
        "id": "view-in-github",
        "colab_type": "text"
      },
      "source": [
        "<a href=\"https://colab.research.google.com/github/SonalGupta-02/summer19-Python/blob/master/ArtificialNeuralNetworks.ipynb\" target=\"_parent\"><img src=\"https://colab.research.google.com/assets/colab-badge.svg\" alt=\"Open In Colab\"/></a>"
      ]
    },
    {
      "cell_type": "code",
      "metadata": {
        "id": "E9IPDGfl6Xx6",
        "colab_type": "code",
        "colab": {
          "base_uri": "https://localhost:8080/",
          "height": 34
        },
        "outputId": "b1d303c6-f746-42a2-bf0f-ca4a26583f53"
      },
      "source": [
        "#loading data via pandas\n",
        "import keras\n",
        "import matplotlib.pyplot as mlt\n",
        "import seaborn as sb\n",
        "import pandas as pd"
      ],
      "execution_count": 1,
      "outputs": [
        {
          "output_type": "stream",
          "text": [
            "Using TensorFlow backend.\n"
          ],
          "name": "stderr"
        }
      ]
    },
    {
      "cell_type": "code",
      "metadata": {
        "id": "s2ixXtYl6vrD",
        "colab_type": "code",
        "colab": {}
      },
      "source": [
        "df=pd.read_csv('http://13.234.66.67/summer19/datasets/bank.csv')"
      ],
      "execution_count": 0,
      "outputs": []
    },
    {
      "cell_type": "code",
      "metadata": {
        "id": "uBq41q5367ed",
        "colab_type": "code",
        "colab": {
          "base_uri": "https://localhost:8080/",
          "height": 204
        },
        "outputId": "3a51d10b-784d-47bf-bab0-1e9fadf5add5"
      },
      "source": [
        "df.head()\n"
      ],
      "execution_count": 3,
      "outputs": [
        {
          "output_type": "execute_result",
          "data": {
            "text/html": [
              "<div>\n",
              "<style scoped>\n",
              "    .dataframe tbody tr th:only-of-type {\n",
              "        vertical-align: middle;\n",
              "    }\n",
              "\n",
              "    .dataframe tbody tr th {\n",
              "        vertical-align: top;\n",
              "    }\n",
              "\n",
              "    .dataframe thead th {\n",
              "        text-align: right;\n",
              "    }\n",
              "</style>\n",
              "<table border=\"1\" class=\"dataframe\">\n",
              "  <thead>\n",
              "    <tr style=\"text-align: right;\">\n",
              "      <th></th>\n",
              "      <th>RowNumber</th>\n",
              "      <th>CustomerId</th>\n",
              "      <th>Surname</th>\n",
              "      <th>CreditScore</th>\n",
              "      <th>Geography</th>\n",
              "      <th>Gender</th>\n",
              "      <th>Age</th>\n",
              "      <th>Tenure</th>\n",
              "      <th>Balance</th>\n",
              "      <th>NumOfProducts</th>\n",
              "      <th>HasCrCard</th>\n",
              "      <th>IsActiveMember</th>\n",
              "      <th>EstimatedSalary</th>\n",
              "      <th>Exited</th>\n",
              "    </tr>\n",
              "  </thead>\n",
              "  <tbody>\n",
              "    <tr>\n",
              "      <th>0</th>\n",
              "      <td>1</td>\n",
              "      <td>15634602</td>\n",
              "      <td>Hargrave</td>\n",
              "      <td>619</td>\n",
              "      <td>France</td>\n",
              "      <td>Female</td>\n",
              "      <td>42</td>\n",
              "      <td>2</td>\n",
              "      <td>0.00</td>\n",
              "      <td>1</td>\n",
              "      <td>1</td>\n",
              "      <td>1</td>\n",
              "      <td>101348.88</td>\n",
              "      <td>1</td>\n",
              "    </tr>\n",
              "    <tr>\n",
              "      <th>1</th>\n",
              "      <td>2</td>\n",
              "      <td>15647311</td>\n",
              "      <td>Hill</td>\n",
              "      <td>608</td>\n",
              "      <td>Spain</td>\n",
              "      <td>Female</td>\n",
              "      <td>41</td>\n",
              "      <td>1</td>\n",
              "      <td>83807.86</td>\n",
              "      <td>1</td>\n",
              "      <td>0</td>\n",
              "      <td>1</td>\n",
              "      <td>112542.58</td>\n",
              "      <td>0</td>\n",
              "    </tr>\n",
              "    <tr>\n",
              "      <th>2</th>\n",
              "      <td>3</td>\n",
              "      <td>15619304</td>\n",
              "      <td>Onio</td>\n",
              "      <td>502</td>\n",
              "      <td>France</td>\n",
              "      <td>Female</td>\n",
              "      <td>42</td>\n",
              "      <td>8</td>\n",
              "      <td>159660.80</td>\n",
              "      <td>3</td>\n",
              "      <td>1</td>\n",
              "      <td>0</td>\n",
              "      <td>113931.57</td>\n",
              "      <td>1</td>\n",
              "    </tr>\n",
              "    <tr>\n",
              "      <th>3</th>\n",
              "      <td>4</td>\n",
              "      <td>15701354</td>\n",
              "      <td>Boni</td>\n",
              "      <td>699</td>\n",
              "      <td>France</td>\n",
              "      <td>Female</td>\n",
              "      <td>39</td>\n",
              "      <td>1</td>\n",
              "      <td>0.00</td>\n",
              "      <td>2</td>\n",
              "      <td>0</td>\n",
              "      <td>0</td>\n",
              "      <td>93826.63</td>\n",
              "      <td>0</td>\n",
              "    </tr>\n",
              "    <tr>\n",
              "      <th>4</th>\n",
              "      <td>5</td>\n",
              "      <td>15737888</td>\n",
              "      <td>Mitchell</td>\n",
              "      <td>850</td>\n",
              "      <td>Spain</td>\n",
              "      <td>Female</td>\n",
              "      <td>43</td>\n",
              "      <td>2</td>\n",
              "      <td>125510.82</td>\n",
              "      <td>1</td>\n",
              "      <td>1</td>\n",
              "      <td>1</td>\n",
              "      <td>79084.10</td>\n",
              "      <td>0</td>\n",
              "    </tr>\n",
              "  </tbody>\n",
              "</table>\n",
              "</div>"
            ],
            "text/plain": [
              "   RowNumber  CustomerId   Surname  ...  IsActiveMember EstimatedSalary Exited\n",
              "0          1    15634602  Hargrave  ...               1       101348.88      1\n",
              "1          2    15647311      Hill  ...               1       112542.58      0\n",
              "2          3    15619304      Onio  ...               0       113931.57      1\n",
              "3          4    15701354      Boni  ...               0        93826.63      0\n",
              "4          5    15737888  Mitchell  ...               1        79084.10      0\n",
              "\n",
              "[5 rows x 14 columns]"
            ]
          },
          "metadata": {
            "tags": []
          },
          "execution_count": 3
        }
      ]
    },
    {
      "cell_type": "code",
      "metadata": {
        "id": "O0GKlCZF6-jU",
        "colab_type": "code",
        "colab": {
          "base_uri": "https://localhost:8080/",
          "height": 300
        },
        "outputId": "e833ce1b-ee56-409d-a412-231a1152896d"
      },
      "source": [
        "#countplot by seaborn\n",
        "sb.countplot(df['Gender'])\n"
      ],
      "execution_count": 4,
      "outputs": [
        {
          "output_type": "execute_result",
          "data": {
            "text/plain": [
              "<matplotlib.axes._subplots.AxesSubplot at 0x7f77c446c550>"
            ]
          },
          "metadata": {
            "tags": []
          },
          "execution_count": 4
        },
        {
          "output_type": "display_data",
          "data": {
            "image/png": "[encoded data removed]",
            "text/plain": [
              "<Figure size 432x288 with 1 Axes>"
            ]
          },
          "metadata": {
            "tags": []
          }
        }
      ]
    },
    {
      "cell_type": "code",
      "metadata": {
        "id": "c716JOUn7B41",
        "colab_type": "code",
        "colab": {
          "base_uri": "https://localhost:8080/",
          "height": 300
        },
        "outputId": "0b7fd9d0-f7b1-47a4-9a61-6c48345d8a35"
      },
      "source": [
        "sb.countplot(df['Geography'])\n"
      ],
      "execution_count": 5,
      "outputs": [
        {
          "output_type": "execute_result",
          "data": {
            "text/plain": [
              "<matplotlib.axes._subplots.AxesSubplot at 0x7f77c1b97ef0>"
            ]
          },
          "metadata": {
            "tags": []
          },
          "execution_count": 5
        },
        {
          "output_type": "display_data",
          "data": {
            "image/png": "[encoded data removed]",
            "text/plain": [
              "<Figure size 432x288 with 1 Axes>"
            ]
          },
          "metadata": {
            "tags": []
          }
        }
      ]
    },
    {
      "cell_type": "code",
      "metadata": {
        "id": "27g2BavV7Gqs",
        "colab_type": "code",
        "colab": {
          "base_uri": "https://localhost:8080/",
          "height": 136
        },
        "outputId": "5176d389-0496-4c5c-b347-5f6f679460e5"
      },
      "source": [
        "#features and label of data\n",
        "features=df.iloc[0:,3:13].values\n",
        "\n",
        "features"
      ],
      "execution_count": 6,
      "outputs": [
        {
          "output_type": "execute_result",
          "data": {
            "text/plain": [
              "array([[619, 'France', 'Female', ..., 1, 1, 101348.88],\n",
              "       [608, 'Spain', 'Female', ..., 0, 1, 112542.58],\n",
              "       [502, 'France', 'Female', ..., 1, 0, 113931.57],\n",
              "       ...,\n",
              "       [709, 'France', 'Female', ..., 0, 1, 42085.58],\n",
              "       [772, 'Germany', 'Male', ..., 1, 0, 92888.52],\n",
              "       [792, 'France', 'Female', ..., 1, 0, 38190.78]], dtype=object)"
            ]
          },
          "metadata": {
            "tags": []
          },
          "execution_count": 6
        }
      ]
    },
    {
      "cell_type": "code",
      "metadata": {
        "id": "3c8QYYmU7Nmw",
        "colab_type": "code",
        "colab": {
          "base_uri": "https://localhost:8080/",
          "height": 34
        },
        "outputId": "2c66c657-c230-47f9-acef-93741f1bc01f"
      },
      "source": [
        "# bank exit status\n",
        "#finding label\n",
        "labels=df.iloc[:,13:14].values\n",
        "labels.shape"
      ],
      "execution_count": 7,
      "outputs": [
        {
          "output_type": "execute_result",
          "data": {
            "text/plain": [
              "(10000, 1)"
            ]
          },
          "metadata": {
            "tags": []
          },
          "execution_count": 7
        }
      ]
    },
    {
      "cell_type": "code",
      "metadata": {
        "id": "I686XWfC7R3o",
        "colab_type": "code",
        "colab": {}
      },
      "source": [
        "#to convert string data into numeric we apply label encoding\n",
        "from sklearn.preprocessing import LabelEncoder\n"
      ],
      "execution_count": 0,
      "outputs": []
    },
    {
      "cell_type": "code",
      "metadata": {
        "id": "u1QYNku-7XIz",
        "colab_type": "code",
        "colab": {}
      },
      "source": [
        "countenc=LabelEncoder() #function call\n"
      ],
      "execution_count": 0,
      "outputs": []
    },
    {
      "cell_type": "code",
      "metadata": {
        "id": "NUU0Q3-O7bAH",
        "colab_type": "code",
        "colab": {}
      },
      "source": [
        "# fit country and transform into a number\n",
        "features[0:,1]=countenc.fit_transform(features[0:,1])\n"
      ],
      "execution_count": 0,
      "outputs": []
    },
    {
      "cell_type": "code",
      "metadata": {
        "id": "n_IQGaYM7fAG",
        "colab_type": "code",
        "colab": {}
      },
      "source": [
        "# same is done for gender\n",
        "features[0:,2]=countenc.fit_transform(features[0:,2])\n"
      ],
      "execution_count": 0,
      "outputs": []
    },
    {
      "cell_type": "code",
      "metadata": {
        "id": "1LBnEAtf7kJJ",
        "colab_type": "code",
        "colab": {}
      },
      "source": [
        "# creating dummy variables using onehot encoder\n",
        "from sklearn.preprocessing import OneHotEncoder\n"
      ],
      "execution_count": 0,
      "outputs": []
    },
    {
      "cell_type": "code",
      "metadata": {
        "id": "m36u7sP87pEC",
        "colab_type": "code",
        "colab": {}
      },
      "source": [
        "#calling function\n",
        "counthot=OneHotEncoder(categorical_features=[1])\n"
      ],
      "execution_count": 0,
      "outputs": []
    },
    {
      "cell_type": "code",
      "metadata": {
        "id": "P3EDbZTq7tie",
        "colab_type": "code",
        "colab": {
          "base_uri": "https://localhost:8080/",
          "height": 139
        },
        "outputId": "a91a6e3f-2527-4f1c-f454-004c41137090"
      },
      "source": [
        "# fit and transform\n",
        "features=counthot.fit_transform(features).toarray()\n",
        "features1=features[:,1:]\n"
      ],
      "execution_count": 14,
      "outputs": [
        {
          "output_type": "stream",
          "text": [
            "/usr/local/lib/python3.6/dist-packages/sklearn/preprocessing/_encoders.py:415: FutureWarning: The handling of integer data will change in version 0.22. Currently, the categories are determined based on the range [0, max(values)], while in the future they will be determined based on the unique values.\n",
            "If you want the future behaviour and silence this warning, you can specify \"categories='auto'\".\n",
            "In case you used a LabelEncoder before this OneHotEncoder to convert the categories to integers, then you can now use the OneHotEncoder directly.\n",
            "  warnings.warn(msg, FutureWarning)\n",
            "/usr/local/lib/python3.6/dist-packages/sklearn/preprocessing/_encoders.py:451: DeprecationWarning: The 'categorical_features' keyword is deprecated in version 0.20 and will be removed in 0.22. You can use the ColumnTransformer instead.\n",
            "  \"use the ColumnTransformer instead.\", DeprecationWarning)\n"
          ],
          "name": "stderr"
        }
      ]
    },
    {
      "cell_type": "code",
      "metadata": {
        "id": "DqBSfdi-7xEW",
        "colab_type": "code",
        "colab": {
          "base_uri": "https://localhost:8080/",
          "height": 34
        },
        "outputId": "7df5ae3e-82ec-4f5d-dd59-ea014c4f8a9f"
      },
      "source": [
        "features1.shape"
      ],
      "execution_count": 15,
      "outputs": [
        {
          "output_type": "execute_result",
          "data": {
            "text/plain": [
              "(10000, 11)"
            ]
          },
          "metadata": {
            "tags": []
          },
          "execution_count": 15
        }
      ]
    },
    {
      "cell_type": "code",
      "metadata": {
        "id": "g9C-oPsA709L",
        "colab_type": "code",
        "colab": {}
      },
      "source": [
        "# training and testing\n",
        "from sklearn.model_selection import train_test_split\n"
      ],
      "execution_count": 0,
      "outputs": []
    },
    {
      "cell_type": "code",
      "metadata": {
        "id": "_PwHyFKN760J",
        "colab_type": "code",
        "colab": {}
      },
      "source": [
        "X,x,Y,y=train_test_split(features1,labels,test_size=0.2)\n"
      ],
      "execution_count": 0,
      "outputs": []
    },
    {
      "cell_type": "code",
      "metadata": {
        "id": "B6FriN9Y8AhG",
        "colab_type": "code",
        "colab": {}
      },
      "source": [
        "#feature scaling\n",
        "from sklearn.preprocessing import StandardScaler\n"
      ],
      "execution_count": 0,
      "outputs": []
    },
    {
      "cell_type": "code",
      "metadata": {
        "id": "E-YPhM0m8D4-",
        "colab_type": "code",
        "colab": {}
      },
      "source": [
        "sc=StandardScaler()\n"
      ],
      "execution_count": 0,
      "outputs": []
    },
    {
      "cell_type": "code",
      "metadata": {
        "id": "G8A4W6cw8IZQ",
        "colab_type": "code",
        "colab": {}
      },
      "source": [
        "#training data scale\n",
        "X=sc.fit_transform(X)\n"
      ],
      "execution_count": 0,
      "outputs": []
    },
    {
      "cell_type": "code",
      "metadata": {
        "id": "cmUaolZf8NJA",
        "colab_type": "code",
        "colab": {}
      },
      "source": [
        "#testing data transform\n",
        "x=sc.transform(x)\n"
      ],
      "execution_count": 0,
      "outputs": []
    },
    {
      "cell_type": "code",
      "metadata": {
        "id": "r0f1iamR8QNk",
        "colab_type": "code",
        "colab": {
          "base_uri": "https://localhost:8080/",
          "height": 34
        },
        "outputId": "177e3711-65da-4fc4-84f6-b33e95635f70"
      },
      "source": [
        "#X\n",
        "x.shape\n"
      ],
      "execution_count": 22,
      "outputs": [
        {
          "output_type": "execute_result",
          "data": {
            "text/plain": [
              "(2000, 11)"
            ]
          },
          "metadata": {
            "tags": []
          },
          "execution_count": 22
        }
      ]
    },
    {
      "cell_type": "code",
      "metadata": {
        "id": "DAghicyc8WST",
        "colab_type": "code",
        "colab": {
          "base_uri": "https://localhost:8080/",
          "height": 34
        },
        "outputId": "49d0fe72-fb6f-49eb-ce46-12ef6c428d42"
      },
      "source": [
        "#X\n",
        "X.shape\n"
      ],
      "execution_count": 23,
      "outputs": [
        {
          "output_type": "execute_result",
          "data": {
            "text/plain": [
              "(8000, 11)"
            ]
          },
          "metadata": {
            "tags": []
          },
          "execution_count": 23
        }
      ]
    },
    {
      "cell_type": "code",
      "metadata": {
        "id": "wo6GWOMQ8YO0",
        "colab_type": "code",
        "colab": {}
      },
      "source": [
        "# now we can create ANN model\n",
        "\n",
        "\n",
        "import keras  # this is the way of using tensorflow in background\n",
        "\n",
        "# keras ANN model library import\n",
        "from keras.models import Sequential\n",
        "# this will offer external model of ANN\n"
      ],
      "execution_count": 0,
      "outputs": []
    },
    {
      "cell_type": "code",
      "metadata": {
        "id": "CqlP3vLB8i9u",
        "colab_type": "code",
        "colab": {}
      },
      "source": [
        "# filling data in each layer\n",
        "from keras.layers import Dense  #this will create or give the method to decide the activation function \n",
        "#and number of nodws in each layer including input and output layer\n"
      ],
      "execution_count": 0,
      "outputs": []
    },
    {
      "cell_type": "code",
      "metadata": {
        "id": "S51TRo728nK7",
        "colab_type": "code",
        "colab": {
          "base_uri": "https://localhost:8080/",
          "height": 88
        },
        "outputId": "f9483bb2-2968-4009-fb34-994a1c3dba34"
      },
      "source": [
        "#now we can design MODEL\n",
        "model=Sequential()\n"
      ],
      "execution_count": 26,
      "outputs": [
        {
          "output_type": "stream",
          "text": [
            "WARNING: Logging before flag parsing goes to stderr.\n",
            "W0709 18:15:41.597784 140153431848832 deprecation_wrapper.py:119] From /usr/local/lib/python3.6/dist-packages/keras/backend/tensorflow_backend.py:74: The name tf.get_default_graph is deprecated. Please use tf.compat.v1.get_default_graph instead.\n",
            "\n"
          ],
          "name": "stderr"
        }
      ]
    },
    {
      "cell_type": "code",
      "metadata": {
        "id": "VOJfAHyR8sWx",
        "colab_type": "code",
        "colab": {
          "base_uri": "https://localhost:8080/",
          "height": 105
        },
        "outputId": "43683833-7bdf-47c8-8ac5-00f9124dbd25"
      },
      "source": [
        "# now we can add input layer \n",
        "model.add(Dense(6,input_shape=(11,)))\n",
        "# relu --means rectifier activation function\n"
      ],
      "execution_count": 27,
      "outputs": [
        {
          "output_type": "stream",
          "text": [
            "W0709 18:16:09.659193 140153431848832 deprecation_wrapper.py:119] From /usr/local/lib/python3.6/dist-packages/keras/backend/tensorflow_backend.py:517: The name tf.placeholder is deprecated. Please use tf.compat.v1.placeholder instead.\n",
            "\n",
            "W0709 18:16:09.677373 140153431848832 deprecation_wrapper.py:119] From /usr/local/lib/python3.6/dist-packages/keras/backend/tensorflow_backend.py:4138: The name tf.random_uniform is deprecated. Please use tf.random.uniform instead.\n",
            "\n"
          ],
          "name": "stderr"
        }
      ]
    },
    {
      "cell_type": "code",
      "metadata": {
        "id": "R3LrhUAP8zNy",
        "colab_type": "code",
        "colab": {}
      },
      "source": [
        "# adding one more hidden layer\n",
        "model.add(Dense(6,activation='relu'))\n",
        "# note wee don't have to  assign number of inputs after first / input layer\n"
      ],
      "execution_count": 0,
      "outputs": []
    },
    {
      "cell_type": "code",
      "metadata": {
        "id": "jDtldYa385Sw",
        "colab_type": "code",
        "colab": {}
      },
      "source": [
        "# final layer adding\n",
        "model.add(Dense(1,activation='sigmoid'))\n"
      ],
      "execution_count": 0,
      "outputs": []
    },
    {
      "cell_type": "code",
      "metadata": {
        "id": "QC2zXPx489YI",
        "colab_type": "code",
        "colab": {
          "base_uri": "https://localhost:8080/",
          "height": 156
        },
        "outputId": "7e39af1a-9141-4c4e-8e26-ed51cb38501d"
      },
      "source": [
        "# compile\n",
        "model.compile(optimizer='adam',loss='binary_crossentropy',metrics=['accuracy'])\n",
        "# optimizer ---weight adjust method --stochitis g d (adam)\n"
      ],
      "execution_count": 30,
      "outputs": [
        {
          "output_type": "stream",
          "text": [
            "W0709 18:17:04.828868 140153431848832 deprecation_wrapper.py:119] From /usr/local/lib/python3.6/dist-packages/keras/optimizers.py:790: The name tf.train.Optimizer is deprecated. Please use tf.compat.v1.train.Optimizer instead.\n",
            "\n",
            "W0709 18:17:04.867830 140153431848832 deprecation_wrapper.py:119] From /usr/local/lib/python3.6/dist-packages/keras/backend/tensorflow_backend.py:3376: The name tf.log is deprecated. Please use tf.math.log instead.\n",
            "\n",
            "W0709 18:17:04.878123 140153431848832 deprecation.py:323] From /usr/local/lib/python3.6/dist-packages/tensorflow/python/ops/nn_impl.py:180: add_dispatch_support.<locals>.wrapper (from tensorflow.python.ops.array_ops) is deprecated and will be removed in a future version.\n",
            "Instructions for updating:\n",
            "Use tf.where in 2.0, which has the same broadcast rule as np.where\n"
          ],
          "name": "stderr"
        }
      ]
    },
    {
      "cell_type": "code",
      "metadata": {
        "id": "MWJoQXBR9Arr",
        "colab_type": "code",
        "colab": {
          "base_uri": "https://localhost:8080/",
          "height": 1000
        },
        "outputId": "4d169fbe-6d66-4bd9-f0cb-09aa7a7a0782"
      },
      "source": [
        "#training data fit\n",
        "model.fit(X,Y,batch_size=25,epochs=100)\n"
      ],
      "execution_count": 31,
      "outputs": [
        {
          "output_type": "stream",
          "text": [
            "W0709 18:17:32.489609 140153431848832 deprecation_wrapper.py:119] From /usr/local/lib/python3.6/dist-packages/keras/backend/tensorflow_backend.py:986: The name tf.assign_add is deprecated. Please use tf.compat.v1.assign_add instead.\n",
            "\n"
          ],
          "name": "stderr"
        },
        {
          "output_type": "stream",
          "text": [
            "Epoch 1/100\n",
            "8000/8000 [==============================] - 1s 154us/step - loss: 0.6144 - acc: 0.7051\n",
            "Epoch 2/100\n",
            "8000/8000 [==============================] - 1s 65us/step - loss: 0.4712 - acc: 0.8052\n",
            "Epoch 3/100\n",
            "8000/8000 [==============================] - 0s 61us/step - loss: 0.4258 - acc: 0.8130\n",
            "Epoch 4/100\n",
            "8000/8000 [==============================] - 0s 54us/step - loss: 0.4052 - acc: 0.8206\n",
            "Epoch 5/100\n",
            "8000/8000 [==============================] - 0s 52us/step - loss: 0.3868 - acc: 0.8290\n",
            "Epoch 6/100\n",
            "8000/8000 [==============================] - 0s 51us/step - loss: 0.3714 - acc: 0.8400\n",
            "Epoch 7/100\n",
            "8000/8000 [==============================] - 0s 53us/step - loss: 0.3622 - acc: 0.8449\n",
            "Epoch 8/100\n",
            "8000/8000 [==============================] - 0s 50us/step - loss: 0.3570 - acc: 0.8469\n",
            "Epoch 9/100\n",
            "8000/8000 [==============================] - 0s 49us/step - loss: 0.3540 - acc: 0.8496\n",
            "Epoch 10/100\n",
            "8000/8000 [==============================] - 0s 48us/step - loss: 0.3518 - acc: 0.8525\n",
            "Epoch 11/100\n",
            "8000/8000 [==============================] - 0s 49us/step - loss: 0.3504 - acc: 0.8540\n",
            "Epoch 12/100\n",
            "8000/8000 [==============================] - 0s 48us/step - loss: 0.3488 - acc: 0.8552\n",
            "Epoch 13/100\n",
            "8000/8000 [==============================] - 0s 49us/step - loss: 0.3473 - acc: 0.8559\n",
            "Epoch 14/100\n",
            "8000/8000 [==============================] - 0s 49us/step - loss: 0.3459 - acc: 0.8585\n",
            "Epoch 15/100\n",
            "8000/8000 [==============================] - 0s 48us/step - loss: 0.3451 - acc: 0.8574\n",
            "Epoch 16/100\n",
            "8000/8000 [==============================] - 0s 48us/step - loss: 0.3438 - acc: 0.8586\n",
            "Epoch 17/100\n",
            "8000/8000 [==============================] - 0s 49us/step - loss: 0.3430 - acc: 0.8584\n",
            "Epoch 18/100\n",
            "8000/8000 [==============================] - 0s 48us/step - loss: 0.3419 - acc: 0.8600\n",
            "Epoch 19/100\n",
            "8000/8000 [==============================] - 0s 48us/step - loss: 0.3411 - acc: 0.8619\n",
            "Epoch 20/100\n",
            "8000/8000 [==============================] - 0s 48us/step - loss: 0.3408 - acc: 0.8611\n",
            "Epoch 21/100\n",
            "8000/8000 [==============================] - 0s 47us/step - loss: 0.3404 - acc: 0.8611\n",
            "Epoch 22/100\n",
            "8000/8000 [==============================] - 0s 48us/step - loss: 0.3402 - acc: 0.8615\n",
            "Epoch 23/100\n",
            "8000/8000 [==============================] - 0s 47us/step - loss: 0.3399 - acc: 0.8620\n",
            "Epoch 24/100\n",
            "8000/8000 [==============================] - 0s 47us/step - loss: 0.3399 - acc: 0.8620\n",
            "Epoch 25/100\n",
            "8000/8000 [==============================] - 0s 49us/step - loss: 0.3392 - acc: 0.8621\n",
            "Epoch 26/100\n",
            "8000/8000 [==============================] - 0s 48us/step - loss: 0.3393 - acc: 0.8632\n",
            "Epoch 27/100\n",
            "8000/8000 [==============================] - 0s 49us/step - loss: 0.3390 - acc: 0.8625\n",
            "Epoch 28/100\n",
            "8000/8000 [==============================] - 0s 48us/step - loss: 0.3389 - acc: 0.8629\n",
            "Epoch 29/100\n",
            "8000/8000 [==============================] - 0s 47us/step - loss: 0.3385 - acc: 0.8621\n",
            "Epoch 30/100\n",
            "8000/8000 [==============================] - 0s 48us/step - loss: 0.3381 - acc: 0.8626\n",
            "Epoch 31/100\n",
            "8000/8000 [==============================] - 0s 47us/step - loss: 0.3384 - acc: 0.8637\n",
            "Epoch 32/100\n",
            "8000/8000 [==============================] - 0s 48us/step - loss: 0.3381 - acc: 0.8641\n",
            "Epoch 33/100\n",
            "8000/8000 [==============================] - 0s 49us/step - loss: 0.3382 - acc: 0.8632\n",
            "Epoch 34/100\n",
            "8000/8000 [==============================] - 0s 48us/step - loss: 0.3378 - acc: 0.8641\n",
            "Epoch 35/100\n",
            "8000/8000 [==============================] - 0s 48us/step - loss: 0.3381 - acc: 0.8632\n",
            "Epoch 36/100\n",
            "8000/8000 [==============================] - 0s 48us/step - loss: 0.3378 - acc: 0.8642\n",
            "Epoch 37/100\n",
            "8000/8000 [==============================] - 0s 48us/step - loss: 0.3376 - acc: 0.8639\n",
            "Epoch 38/100\n",
            "8000/8000 [==============================] - 0s 47us/step - loss: 0.3378 - acc: 0.8625\n",
            "Epoch 39/100\n",
            "8000/8000 [==============================] - 0s 48us/step - loss: 0.3373 - acc: 0.8654\n",
            "Epoch 40/100\n",
            "8000/8000 [==============================] - 0s 49us/step - loss: 0.3372 - acc: 0.8634\n",
            "Epoch 41/100\n",
            "8000/8000 [==============================] - 0s 47us/step - loss: 0.3373 - acc: 0.8637\n",
            "Epoch 42/100\n",
            "8000/8000 [==============================] - 0s 47us/step - loss: 0.3369 - acc: 0.8646\n",
            "Epoch 43/100\n",
            "8000/8000 [==============================] - 0s 48us/step - loss: 0.3370 - acc: 0.8629\n",
            "Epoch 44/100\n",
            "8000/8000 [==============================] - 0s 50us/step - loss: 0.3370 - acc: 0.8632\n",
            "Epoch 45/100\n",
            "8000/8000 [==============================] - 0s 48us/step - loss: 0.3372 - acc: 0.8637\n",
            "Epoch 46/100\n",
            "8000/8000 [==============================] - 0s 49us/step - loss: 0.3367 - acc: 0.8647\n",
            "Epoch 47/100\n",
            "8000/8000 [==============================] - 0s 47us/step - loss: 0.3367 - acc: 0.8650\n",
            "Epoch 48/100\n",
            "8000/8000 [==============================] - 0s 49us/step - loss: 0.3368 - acc: 0.8644\n",
            "Epoch 49/100\n",
            "8000/8000 [==============================] - 0s 48us/step - loss: 0.3365 - acc: 0.8637\n",
            "Epoch 50/100\n",
            "8000/8000 [==============================] - 0s 49us/step - loss: 0.3368 - acc: 0.8650\n",
            "Epoch 51/100\n",
            "8000/8000 [==============================] - 0s 49us/step - loss: 0.3364 - acc: 0.8624\n",
            "Epoch 52/100\n",
            "8000/8000 [==============================] - 0s 48us/step - loss: 0.3369 - acc: 0.8647\n",
            "Epoch 53/100\n",
            "8000/8000 [==============================] - 0s 47us/step - loss: 0.3366 - acc: 0.8651\n",
            "Epoch 54/100\n",
            "8000/8000 [==============================] - 0s 48us/step - loss: 0.3364 - acc: 0.8647\n",
            "Epoch 55/100\n",
            "8000/8000 [==============================] - 0s 48us/step - loss: 0.3368 - acc: 0.8636\n",
            "Epoch 56/100\n",
            "8000/8000 [==============================] - 0s 50us/step - loss: 0.3364 - acc: 0.8644\n",
            "Epoch 57/100\n",
            "8000/8000 [==============================] - 0s 50us/step - loss: 0.3369 - acc: 0.8632\n",
            "Epoch 58/100\n",
            "8000/8000 [==============================] - 0s 49us/step - loss: 0.3370 - acc: 0.8624\n",
            "Epoch 59/100\n",
            "8000/8000 [==============================] - 0s 49us/step - loss: 0.3364 - acc: 0.8636\n",
            "Epoch 60/100\n",
            "8000/8000 [==============================] - 0s 49us/step - loss: 0.3365 - acc: 0.8639\n",
            "Epoch 61/100\n",
            "8000/8000 [==============================] - 0s 49us/step - loss: 0.3362 - acc: 0.8636\n",
            "Epoch 62/100\n",
            "8000/8000 [==============================] - 0s 48us/step - loss: 0.3365 - acc: 0.8634\n",
            "Epoch 63/100\n",
            "8000/8000 [==============================] - 0s 48us/step - loss: 0.3361 - acc: 0.8631\n",
            "Epoch 64/100\n",
            "8000/8000 [==============================] - 0s 50us/step - loss: 0.3361 - acc: 0.8635\n",
            "Epoch 65/100\n",
            "8000/8000 [==============================] - 0s 50us/step - loss: 0.3362 - acc: 0.8644\n",
            "Epoch 66/100\n",
            "8000/8000 [==============================] - 0s 48us/step - loss: 0.3368 - acc: 0.8642\n",
            "Epoch 67/100\n",
            "8000/8000 [==============================] - 0s 48us/step - loss: 0.3361 - acc: 0.8632\n",
            "Epoch 68/100\n",
            "8000/8000 [==============================] - 0s 47us/step - loss: 0.3360 - acc: 0.8636\n",
            "Epoch 69/100\n",
            "8000/8000 [==============================] - 0s 48us/step - loss: 0.3365 - acc: 0.8627\n",
            "Epoch 70/100\n",
            "8000/8000 [==============================] - 0s 48us/step - loss: 0.3356 - acc: 0.8629\n",
            "Epoch 71/100\n",
            "8000/8000 [==============================] - 0s 48us/step - loss: 0.3366 - acc: 0.8642\n",
            "Epoch 72/100\n",
            "8000/8000 [==============================] - 0s 49us/step - loss: 0.3357 - acc: 0.8636\n",
            "Epoch 73/100\n",
            "8000/8000 [==============================] - 0s 48us/step - loss: 0.3360 - acc: 0.8635\n",
            "Epoch 74/100\n",
            "8000/8000 [==============================] - 0s 53us/step - loss: 0.3359 - acc: 0.8635\n",
            "Epoch 75/100\n",
            "8000/8000 [==============================] - 0s 47us/step - loss: 0.3359 - acc: 0.8632\n",
            "Epoch 76/100\n",
            "8000/8000 [==============================] - 0s 47us/step - loss: 0.3362 - acc: 0.8627\n",
            "Epoch 77/100\n",
            "8000/8000 [==============================] - 0s 48us/step - loss: 0.3359 - acc: 0.8636\n",
            "Epoch 78/100\n",
            "8000/8000 [==============================] - 0s 48us/step - loss: 0.3361 - acc: 0.8642\n",
            "Epoch 79/100\n",
            "8000/8000 [==============================] - 0s 51us/step - loss: 0.3361 - acc: 0.8627\n",
            "Epoch 80/100\n",
            "8000/8000 [==============================] - 0s 49us/step - loss: 0.3356 - acc: 0.8629\n",
            "Epoch 81/100\n",
            "8000/8000 [==============================] - 0s 48us/step - loss: 0.3361 - acc: 0.8635\n",
            "Epoch 82/100\n",
            "8000/8000 [==============================] - 0s 48us/step - loss: 0.3358 - acc: 0.8634\n",
            "Epoch 83/100\n",
            "8000/8000 [==============================] - 0s 48us/step - loss: 0.3356 - acc: 0.8624\n",
            "Epoch 84/100\n",
            "8000/8000 [==============================] - 0s 48us/step - loss: 0.3362 - acc: 0.8631\n",
            "Epoch 85/100\n",
            "8000/8000 [==============================] - 0s 49us/step - loss: 0.3354 - acc: 0.8631\n",
            "Epoch 86/100\n",
            "8000/8000 [==============================] - 0s 48us/step - loss: 0.3359 - acc: 0.8622\n",
            "Epoch 87/100\n",
            "8000/8000 [==============================] - 0s 50us/step - loss: 0.3358 - acc: 0.8631\n",
            "Epoch 88/100\n",
            "8000/8000 [==============================] - 0s 50us/step - loss: 0.3355 - acc: 0.8641\n",
            "Epoch 89/100\n",
            "8000/8000 [==============================] - 0s 51us/step - loss: 0.3360 - acc: 0.8627\n",
            "Epoch 90/100\n",
            "8000/8000 [==============================] - 0s 49us/step - loss: 0.3357 - acc: 0.8627\n",
            "Epoch 91/100\n",
            "8000/8000 [==============================] - 0s 49us/step - loss: 0.3361 - acc: 0.8617\n",
            "Epoch 92/100\n",
            "8000/8000 [==============================] - 0s 51us/step - loss: 0.3355 - acc: 0.8635\n",
            "Epoch 93/100\n",
            "8000/8000 [==============================] - 0s 49us/step - loss: 0.3355 - acc: 0.8642\n",
            "Epoch 94/100\n",
            "8000/8000 [==============================] - 0s 50us/step - loss: 0.3357 - acc: 0.8629\n",
            "Epoch 95/100\n",
            "8000/8000 [==============================] - 0s 48us/step - loss: 0.3358 - acc: 0.8637\n",
            "Epoch 96/100\n",
            "8000/8000 [==============================] - 0s 50us/step - loss: 0.3353 - acc: 0.8630\n",
            "Epoch 97/100\n",
            "8000/8000 [==============================] - 0s 50us/step - loss: 0.3357 - acc: 0.8634\n",
            "Epoch 98/100\n",
            "8000/8000 [==============================] - 0s 49us/step - loss: 0.3356 - acc: 0.8626\n",
            "Epoch 99/100\n",
            "8000/8000 [==============================] - 0s 55us/step - loss: 0.3354 - acc: 0.8630\n",
            "Epoch 100/100\n",
            "8000/8000 [==============================] - 0s 49us/step - loss: 0.3356 - acc: 0.8629\n"
          ],
          "name": "stdout"
        },
        {
          "output_type": "execute_result",
          "data": {
            "text/plain": [
              "<keras.callbacks.History at 0x7f77befaedd8>"
            ]
          },
          "metadata": {
            "tags": []
          },
          "execution_count": 31
        }
      ]
    },
    {
      "cell_type": "code",
      "metadata": {
        "id": "OP4tlUTw9HXs",
        "colab_type": "code",
        "colab": {
          "base_uri": "https://localhost:8080/",
          "height": 136
        },
        "outputId": "453bdcf0-566b-4616-83f4-f7b048ba18bc"
      },
      "source": [
        "model.predict(x) #now predict and test\n"
      ],
      "execution_count": 32,
      "outputs": [
        {
          "output_type": "execute_result",
          "data": {
            "text/plain": [
              "array([[0.22886845],\n",
              "       [0.03594017],\n",
              "       [0.12063298],\n",
              "       ...,\n",
              "       [0.43139622],\n",
              "       [0.09268537],\n",
              "       [0.24289656]], dtype=float32)"
            ]
          },
          "metadata": {
            "tags": []
          },
          "execution_count": 32
        }
      ]
    },
    {
      "cell_type": "code",
      "metadata": {
        "id": "FO-rRVAV9MbS",
        "colab_type": "code",
        "colab": {}
      },
      "source": [
        "# accuracy score --- confusion matrix\n",
        "#Stock market data= mutual fund customer list==dataset for ann"
      ],
      "execution_count": 0,
      "outputs": []
    },
    {
      "cell_type": "code",
      "metadata": {
        "id": "iLdsmb1w9RGy",
        "colab_type": "code",
        "colab": {}
      },
      "source": [
        ""
      ],
      "execution_count": 0,
      "outputs": []
    }
  ]
}