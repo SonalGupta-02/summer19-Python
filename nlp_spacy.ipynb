{
  "nbformat": 4,
  "nbformat_minor": 0,
  "metadata": {
    "colab": {
      "name": "Untitled6.ipynb",
      "version": "0.3.2",
      "provenance": [],
      "include_colab_link": true
    },
    "kernelspec": {
      "name": "python3",
      "display_name": "Python 3"
    }
  },
  "cells": [
    {
      "cell_type": "markdown",
      "metadata": {
        "id": "view-in-github",
        "colab_type": "text"
      },
      "source": [
        "<a href=\"https://colab.research.google.com/github/SonalGupta-02/summer19-Python/blob/master/nlp_spacy.ipynb\" target=\"_parent\"><img src=\"https://colab.research.google.com/assets/colab-badge.svg\" alt=\"Open In Colab\"/></a>"
      ]
    },
    {
      "cell_type": "code",
      "metadata": {
        "id": "32BUFf-4ehoV",
        "colab_type": "code",
        "colab": {}
      },
      "source": [
        "import spacy"
      ],
      "execution_count": 0,
      "outputs": []
    },
    {
      "cell_type": "code",
      "metadata": {
        "id": "ntg1eNkQeo2w",
        "colab_type": "code",
        "colab": {}
      },
      "source": [
        "#  language english\n",
        "nlp=spacy.load('en')"
      ],
      "execution_count": 0,
      "outputs": []
    },
    {
      "cell_type": "code",
      "metadata": {
        "id": "UVLjOxP3ey2U",
        "colab_type": "code",
        "colab": {}
      },
      "source": [
        "data=\"hello jaipur!! its been nice time to stay here\""
      ],
      "execution_count": 0,
      "outputs": []
    },
    {
      "cell_type": "code",
      "metadata": {
        "id": "kHqk5u3KfP04",
        "colab_type": "code",
        "colab": {}
      },
      "source": [
        "# automatic tokenize\n",
        "new_data=nlp(data)"
      ],
      "execution_count": 0,
      "outputs": []
    },
    {
      "cell_type": "code",
      "metadata": {
        "id": "dX8KtYYEfRPk",
        "colab_type": "code",
        "colab": {
          "base_uri": "https://localhost:8080/",
          "height": 578
        },
        "outputId": "8849758d-f2ea-48b8-879e-68f229b16109"
      },
      "source": [
        "for i in new_data:\n",
        "  print(i,\"  Lemmatization of word is--->  \",i.lemma_)\n",
        "  print(\"######################\")\n",
        "  print(i,\" POS \",i.pos_)"
      ],
      "execution_count": 15,
      "outputs": [
        {
          "output_type": "stream",
          "text": [
            "hello   Lemmatization of word is--->   hello\n",
            "######################\n",
            "hello  POS  INTJ\n",
            "jaipur   Lemmatization of word is--->   jaipur\n",
            "######################\n",
            "jaipur  POS  NOUN\n",
            "!   Lemmatization of word is--->   !\n",
            "######################\n",
            "!  POS  PUNCT\n",
            "!   Lemmatization of word is--->   !\n",
            "######################\n",
            "!  POS  PUNCT\n",
            "its   Lemmatization of word is--->   -PRON-\n",
            "######################\n",
            "its  POS  DET\n",
            "been   Lemmatization of word is--->   be\n",
            "######################\n",
            "been  POS  VERB\n",
            "nice   Lemmatization of word is--->   nice\n",
            "######################\n",
            "nice  POS  ADJ\n",
            "time   Lemmatization of word is--->   time\n",
            "######################\n",
            "time  POS  NOUN\n",
            "to   Lemmatization of word is--->   to\n",
            "######################\n",
            "to  POS  PART\n",
            "stay   Lemmatization of word is--->   stay\n",
            "######################\n",
            "stay  POS  VERB\n",
            "here   Lemmatization of word is--->   here\n",
            "######################\n",
            "here  POS  ADV\n"
          ],
          "name": "stdout"
        }
      ]
    },
    {
      "cell_type": "code",
      "metadata": {
        "id": "daFdgqGdfZRc",
        "colab_type": "code",
        "colab": {}
      },
      "source": [
        ""
      ],
      "execution_count": 0,
      "outputs": []
    }
  ]
}