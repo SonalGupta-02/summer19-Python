{
  "nbformat": 4,
  "nbformat_minor": 0,
  "metadata": {
    "colab": {
      "name": "Untitled8.ipynb",
      "version": "0.3.2",
      "provenance": [],
      "include_colab_link": true
    },
    "kernelspec": {
      "name": "python3",
      "display_name": "Python 3"
    }
  },
  "cells": [
    {
      "cell_type": "markdown",
      "metadata": {
        "id": "view-in-github",
        "colab_type": "text"
      },
      "source": [
        "<a href=\"https://colab.research.google.com/github/SonalGupta-02/summer19-Python/blob/master/Tweepyy.ipynb\" target=\"_parent\"><img src=\"https://colab.research.google.com/assets/colab-badge.svg\" alt=\"Open In Colab\"/></a>"
      ]
    },
    {
      "cell_type": "code",
      "metadata": {
        "id": "rfXuq0FXLQ-Y",
        "colab_type": "code",
        "colab": {}
      },
      "source": [
        "import tweepy\n",
        "import matplotlib.pyplot as plt\n",
        "import time\n",
        "from textblob import TextBlob"
      ],
      "execution_count": 0,
      "outputs": []
    },
    {
      "cell_type": "code",
      "metadata": {
        "id": "EkDjVTDbLaxZ",
        "colab_type": "code",
        "colab": {
          "base_uri": "https://localhost:8080/",
          "height": 572
        },
        "outputId": "af67d6b9-bf6d-4e85-d2ec-ff1e2749f2af"
      },
      "source": [
        "# all 4 auhentictaion keys to access twitter API\n",
        "#  to connect as OAth handler or jump server/reverse proxy server\n",
        "consumer_key='UwFy9bbIT51xobSjmBLL5JWfk'\n",
        "consumer_sec='lanaAB248Ap7Q15EFWvrCRnSY2VaDzZ5xzmkN8JXFrdDr7tPaL'\n",
        "\n",
        "#from proxy server we ned to connect to web server of twitter\n",
        "access_token='1136442237624102914-cRAwcfstY1BxjVcN80RcZikKSBmkrH'\n",
        "access_sec='A80x5e21sauOAoYVE5u4eTUUx17G5zDUoioQQfDbFCI7V'\n",
        "\n",
        "#tweepy explore--\n",
        "# connecting to jump server of twitter\n",
        "auth=tweepy.OAuthHandler(consumer_key,consumer_sec)\n",
        "\n",
        "# now we can conect from jump server to web server of twitter\n",
        "auth.set_access_token(access_token,access_sec)\n",
        "\n",
        "#now we can connect to API storage server of twitter\n",
        "api_connect=tweepy.API(auth)\n",
        "j\n",
        "#now you can search any topic on twitter\n",
        "tweet_data=api_connect.search('rohit sharma',count=10)\n",
        "\n",
        "\n",
        "pos=0\n",
        "neg=0\n",
        "neu=0\n",
        "\n",
        "#printing line by line\n",
        "for tweet in tweet_data:\n",
        "  #print(tweet.text)\n",
        "  analysis=TextBlob(tweet.text)\n",
        "  print(analysis.sentiment)\n",
        "  \n",
        "  # now checking polarity only\n",
        "  if analysis.sentiment.polarity > 0:\n",
        "    print('Positive')\n",
        "    pos=pos+1\n",
        "  elif analysis.sentiment.polarity == 0:\n",
        "    print('Neutral')\n",
        "    neu=neu+1\n",
        "  else :\n",
        "    print('Negative')\n",
        "    neg=neg+1\n",
        "\n",
        "#  plotting graphs\n",
        "plt.xlabel('Tags')\n",
        "plt.ylabel('Polarity')\n",
        "#plt.bar(['pos','neg','neu'],[pos,neg,neu])\n",
        "plt.pie([pos,neg,neu],labels=['pos','neg','neu'],autopct='%1.1f%%')\n",
        "plt.show()"
      ],
      "execution_count": 18,
      "outputs": [
        {
          "output_type": "stream",
          "text": [
            "Sentiment(polarity=0.5, subjectivity=0.75)\n",
            "Positive\n",
            "Sentiment(polarity=0.5, subjectivity=1.0)\n",
            "Positive\n",
            "Sentiment(polarity=0.0, subjectivity=0.0)\n",
            "Neutral\n",
            "Sentiment(polarity=0.0, subjectivity=0.0)\n",
            "Neutral\n",
            "Sentiment(polarity=0.0, subjectivity=0.3)\n",
            "Neutral\n",
            "Sentiment(polarity=0.0, subjectivity=0.1)\n",
            "Neutral\n",
            "Sentiment(polarity=0.0, subjectivity=0.1)\n",
            "Neutral\n",
            "Sentiment(polarity=0.0, subjectivity=0.1)\n",
            "Neutral\n",
            "Sentiment(polarity=0.0, subjectivity=0.1)\n",
            "Neutral\n"
          ],
          "name": "stdout"
        },
        {
          "output_type": "display_data",
          "data": {
            "image/png": "[encoded data removed]",
            "text/plain": [
              "<Figure size 432x288 with 1 Axes>"
            ]
          },
          "metadata": {
            "tags": []
          }
        }
      ]
    },
    {
      "cell_type": "code",
      "metadata": {
        "id": "xFbpCVyyRMr2",
        "colab_type": "code",
        "colab": {}
      },
      "source": [
        ""
      ],
      "execution_count": 0,
      "outputs": []
    }
  ]
}